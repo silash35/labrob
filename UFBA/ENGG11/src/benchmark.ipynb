{
 "cells": [
  {
   "metadata": {},
   "cell_type": "markdown",
   "source": "# Gráfico da Função Restrigin    "
  },
  {
   "metadata": {
    "ExecuteTime": {
     "end_time": "2024-10-24T13:37:47.982471Z",
     "start_time": "2024-10-24T13:37:47.933197Z"
    }
   },
   "cell_type": "code",
   "source": [
    "import numpy as np\n",
    "import matplotlib.pyplot as plt\n",
    "\n",
    "# Definindo a função Rastrigin\n",
    "def rastrigin(X, Y):\n",
    "    A = 10\n",
    "    return A * 2 + (X**2 - A * np.cos(2 * np.pi * X)) + (Y**2 - A * np.cos(2 * np.pi * Y))\n",
    "\n",
    "# Gera valores de X e Y no intervalo [-5.12, 5.12]\n",
    "x = np.linspace(-5.12, 5.12, 400)\n",
    "y = np.linspace(-5.12, 5.12, 400)\n",
    "\n",
    "X, Y = np.meshgrid(x, y)\n",
    "Z = rastrigin(X, Y)\n",
    "\n",
    "# Criação do gráfico 3D da função Rastrigin\n",
    "fig = plt.figure(figsize=(8, 6))\n",
    "ax = fig.add_subplot(111, projection='3d')\n",
    "ax.plot_surface(X, Y, Z, cmap='viridis')\n",
    "\n",
    "# Adicionando títulos e rótulos\n",
    "ax.set_title(\"Função Rastrigin\")\n",
    "ax.set_xlabel(\"X\")\n",
    "ax.set_ylabel(\"Y\")\n",
    "ax.set_zlabel(\"Valor da Função\")\n",
    "\n",
    "plt.show()\n"
   ],
   "outputs": [
    {
     "ename": "ModuleNotFoundError",
     "evalue": "No module named 'matplotlib'",
     "output_type": "error",
     "traceback": [
      "\u001B[1;31m---------------------------------------------------------------------------\u001B[0m",
      "\u001B[1;31mModuleNotFoundError\u001B[0m                       Traceback (most recent call last)",
      "Cell \u001B[1;32mIn[4], line 2\u001B[0m\n\u001B[0;32m      1\u001B[0m \u001B[38;5;28;01mimport\u001B[39;00m \u001B[38;5;21;01mnumpy\u001B[39;00m \u001B[38;5;28;01mas\u001B[39;00m \u001B[38;5;21;01mnp\u001B[39;00m\n\u001B[1;32m----> 2\u001B[0m \u001B[38;5;28;01mimport\u001B[39;00m \u001B[38;5;21;01mmatplotlib\u001B[39;00m\u001B[38;5;21;01m.\u001B[39;00m\u001B[38;5;21;01mpyplot\u001B[39;00m \u001B[38;5;28;01mas\u001B[39;00m \u001B[38;5;21;01mplt\u001B[39;00m\n\u001B[0;32m      4\u001B[0m \u001B[38;5;66;03m# Definindo a função Rastrigin\u001B[39;00m\n\u001B[0;32m      5\u001B[0m \u001B[38;5;28;01mdef\u001B[39;00m \u001B[38;5;21mrastrigin\u001B[39m(X, Y):\n",
      "\u001B[1;31mModuleNotFoundError\u001B[0m: No module named 'matplotlib'"
     ]
    }
   ],
   "execution_count": 4
  },
  {
   "metadata": {},
   "cell_type": "markdown",
   "source": "# Benchmark \n"
  },
  {
   "metadata": {
    "ExecuteTime": {
     "end_time": "2024-10-24T13:36:19.471752Z",
     "start_time": "2024-10-24T13:36:17.860604Z"
    }
   },
   "cell_type": "code",
   "source": [
    "import random\n",
    "import numpy as np\n",
    "import time\n",
    "from deap import base, creator, tools, algorithms\n",
    "\n",
    "# Configuração da função de benchmark (Rastrigin)\n",
    "def rastrigin(individual):\n",
    "    A = 10\n",
    "    return A * len(individual) + sum([(x**2 - A * np.cos(2 * np.pi * x)) for x in individual]),\n",
    "\n",
    "# Função para rodar o algoritmo genético básico\n",
    "def run_ga(pop_size, cx_prob, mut_prob, ngen, elitism=False):\n",
    "    creator.create(\"FitnessMin\", base.Fitness, weights=(-1.0,))\n",
    "    creator.create(\"Individual\", list, fitness=creator.FitnessMin)\n",
    "\n",
    "    toolbox = base.Toolbox()\n",
    "    toolbox.register(\"attr_float\", random.uniform, -5.12, 5.12)\n",
    "    toolbox.register(\"individual\", tools.initRepeat, creator.Individual, toolbox.attr_float, n=10)\n",
    "    toolbox.register(\"population\", tools.initRepeat, list, toolbox.individual)\n",
    "\n",
    "    toolbox.register(\"mate\", tools.cxBlend, alpha=0.5)\n",
    "    toolbox.register(\"mutate\", tools.mutGaussian, mu=0, sigma=1, indpb=0.1)\n",
    "    toolbox.register(\"select\", tools.selTournament, tournsize=3)\n",
    "    toolbox.register(\"evaluate\", rastrigin)\n",
    "\n",
    "    pop = toolbox.population(n=pop_size)\n",
    "\n",
    "    hof = tools.HallOfFame(1, similar=np.array_equal)\n",
    "    stats = tools.Statistics(lambda ind: ind.fitness.values)\n",
    "    stats.register(\"avg\", np.mean)\n",
    "    stats.register(\"std\", np.std)\n",
    "    stats.register(\"min\", np.min)\n",
    "    stats.register(\"max\", np.max)\n",
    "\n",
    "    if elitism:\n",
    "        alg = algorithms.eaMuPlusLambda\n",
    "        lambda_ = int(pop_size * 1.1)  # Número de filhos para elitismo\n",
    "        start_time = time.time()\n",
    "        algorithms.eaMuPlusLambda(pop, toolbox, mu=pop_size, lambda_=lambda_, cxpb=cx_prob, mutpb=mut_prob, ngen=ngen,\n",
    "                                  stats=stats, halloffame=hof, verbose=False)\n",
    "        end_time = time.time()\n",
    "    else:\n",
    "        start_time = time.time()\n",
    "        algorithms.eaSimple(pop, toolbox, cxpb=cx_prob, mutpb=mut_prob, ngen=ngen, \n",
    "                            stats=stats, halloffame=hof, verbose=False)\n",
    "        end_time = time.time()\n",
    "\n",
    "    return hof[0], hof[0].fitness.values[0], end_time - start_time\n",
    "\n",
    "# Parâmetros do benchmark\n",
    "pop_size = 100\n",
    "cx_prob = 0.7\n",
    "mut_prob = 0.2\n",
    "ngen = 50\n",
    "\n",
    "# Executando GA simples\n",
    "best_ind_simple, best_fitness_simple, exec_time_simple = run_ga(pop_size, cx_prob, mut_prob, ngen, elitism=False)\n",
    "\n",
    "# Executando GA com elitismo\n",
    "best_ind_elitism, best_fitness_elitism, exec_time_elitism = run_ga(pop_size, cx_prob, mut_prob, ngen, elitism=True)\n",
    "\n",
    "# Resultados do benchmark\n",
    "print(\"\\n=== Algoritmo Genético Simples ===\")\n",
    "print(\"Melhor Individuo: \", best_ind_simple)\n",
    "print(\"Melhor Fitness: \", best_fitness_simple)\n",
    "print(\"Tempo de Execução: %.2f segundos\" % exec_time_simple)\n",
    "\n",
    "print(\"\\n=== Algoritmo Genético com Elitismo ===\")\n",
    "print(\"Melhor Individuo: \", best_ind_elitism)\n",
    "print(\"Melhor Fitness: \", best_fitness_elitism)\n",
    "print(\"Tempo de Execução: %.2f segundos\" % exec_time_elitism)\n",
    "\n",
    "# Comparação\n",
    "print(\"\\n=== Comparação ===\")\n",
    "print(f\"Fitness Simples: {best_fitness_simple}, Fitness Elitismo: {best_fitness_elitism}\")\n",
    "print(f\"Tempo Simples: {exec_time_simple:.2f} s, Tempo Elitismo: {exec_time_elitism:.2f} s\")\n"
   ],
   "outputs": [
    {
     "name": "stderr",
     "output_type": "stream",
     "text": [
      "C:\\Users\\fabio\\Desktop\\projects\\.venv\\Lib\\site-packages\\deap\\creator.py:185: RuntimeWarning: A class named 'FitnessMin' has already been created and it will be overwritten. Consider deleting previous creation of that class or rename it.\n",
      "  warnings.warn(\"A class named '{0}' has already been created and it \"\n",
      "C:\\Users\\fabio\\Desktop\\projects\\.venv\\Lib\\site-packages\\deap\\creator.py:185: RuntimeWarning: A class named 'Individual' has already been created and it will be overwritten. Consider deleting previous creation of that class or rename it.\n",
      "  warnings.warn(\"A class named '{0}' has already been created and it \"\n"
     ]
    },
    {
     "name": "stdout",
     "output_type": "stream",
     "text": [
      "\n",
      "=== Algoritmo Genético Simples ===\n",
      "Melhor Individuo:  [-0.00879874681131465, 0.02946605157982074, 0.9847737447918776, -0.9896729318132614, 0.0060068631805746935, 0.029563817734493944, 1.0009804842092451, 0.999353588052357, 0.042629209911799686, 1.016765884116561]\n",
      "Melhor Fitness:  5.831762416308493\n",
      "Tempo de Execução: 0.79 segundos\n",
      "\n",
      "=== Algoritmo Genético com Elitismo ===\n",
      "Melhor Individuo:  [-0.9690382257501269, -0.005318962836560789, 0.061325643840125205, 0.0027230048007670926, -1.985838872216166, -0.9961479314489401, -0.0017766875922819645, -0.9583595497417197, 0.9949261490502694, -0.0022265936038652137]\n",
      "Melhor Fitness:  9.10542041268451\n",
      "Tempo de Execução: 0.57 segundos\n",
      "\n",
      "=== Comparação ===\n",
      "Fitness Simples: 5.831762416308493, Fitness Elitismo: 9.10542041268451\n",
      "Tempo Simples: 0.79 s, Tempo Elitismo: 0.57 s\n"
     ]
    }
   ],
   "execution_count": 3
  },
  {
   "metadata": {},
   "cell_type": "code",
   "outputs": [],
   "execution_count": null,
   "source": ""
  }
 ],
 "metadata": {
  "kernelspec": {
   "display_name": "Python 3",
   "language": "python",
   "name": "python3"
  },
  "language_info": {
   "codemirror_mode": {
    "name": "ipython",
    "version": 3
   },
   "file_extension": ".py",
   "mimetype": "text/x-python",
   "name": "python",
   "nbconvert_exporter": "python",
   "pygments_lexer": "ipython3",
   "version": "3.11.2"
  }
 },
 "nbformat": 4,
 "nbformat_minor": 2
}
